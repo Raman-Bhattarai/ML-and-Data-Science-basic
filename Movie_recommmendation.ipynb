{
  "nbformat": 4,
  "nbformat_minor": 0,
  "metadata": {
    "colab": {
      "provenance": []
    },
    "kernelspec": {
      "name": "python3",
      "display_name": "Python 3"
    },
    "language_info": {
      "name": "python"
    }
  },
  "cells": [
    {
      "cell_type": "code",
      "execution_count": 46,
      "metadata": {
        "colab": {
          "base_uri": "https://localhost:8080/"
        },
        "id": "yVcHuA1sKq1d",
        "outputId": "3aaefd24-6faf-4998-913b-d1d5620ee7c6"
      },
      "outputs": [
        {
          "output_type": "stream",
          "name": "stdout",
          "text": [
            "Requirement already satisfied: pandas in /usr/local/lib/python3.12/dist-packages (2.2.2)\n",
            "Requirement already satisfied: matplotlib in /usr/local/lib/python3.12/dist-packages (3.10.0)\n",
            "Requirement already satisfied: seaborn in /usr/local/lib/python3.12/dist-packages (0.13.2)\n",
            "Requirement already satisfied: numpy in /usr/local/lib/python3.12/dist-packages (2.0.2)\n",
            "Requirement already satisfied: scikit-learn in /usr/local/lib/python3.12/dist-packages (1.6.1)\n",
            "Requirement already satisfied: python-dateutil>=2.8.2 in /usr/local/lib/python3.12/dist-packages (from pandas) (2.9.0.post0)\n",
            "Requirement already satisfied: pytz>=2020.1 in /usr/local/lib/python3.12/dist-packages (from pandas) (2025.2)\n",
            "Requirement already satisfied: tzdata>=2022.7 in /usr/local/lib/python3.12/dist-packages (from pandas) (2025.2)\n",
            "Requirement already satisfied: contourpy>=1.0.1 in /usr/local/lib/python3.12/dist-packages (from matplotlib) (1.3.3)\n",
            "Requirement already satisfied: cycler>=0.10 in /usr/local/lib/python3.12/dist-packages (from matplotlib) (0.12.1)\n",
            "Requirement already satisfied: fonttools>=4.22.0 in /usr/local/lib/python3.12/dist-packages (from matplotlib) (4.59.1)\n",
            "Requirement already satisfied: kiwisolver>=1.3.1 in /usr/local/lib/python3.12/dist-packages (from matplotlib) (1.4.9)\n",
            "Requirement already satisfied: packaging>=20.0 in /usr/local/lib/python3.12/dist-packages (from matplotlib) (25.0)\n",
            "Requirement already satisfied: pillow>=8 in /usr/local/lib/python3.12/dist-packages (from matplotlib) (11.3.0)\n",
            "Requirement already satisfied: pyparsing>=2.3.1 in /usr/local/lib/python3.12/dist-packages (from matplotlib) (3.2.3)\n",
            "Requirement already satisfied: scipy>=1.6.0 in /usr/local/lib/python3.12/dist-packages (from scikit-learn) (1.16.1)\n",
            "Requirement already satisfied: joblib>=1.2.0 in /usr/local/lib/python3.12/dist-packages (from scikit-learn) (1.5.1)\n",
            "Requirement already satisfied: threadpoolctl>=3.1.0 in /usr/local/lib/python3.12/dist-packages (from scikit-learn) (3.6.0)\n",
            "Requirement already satisfied: six>=1.5 in /usr/local/lib/python3.12/dist-packages (from python-dateutil>=2.8.2->pandas) (1.17.0)\n"
          ]
        }
      ],
      "source": [
        "#Movie recommendation using MovieLens dataset\n",
        "\n",
        "!pip install pandas matplotlib seaborn numpy scikit-learn"
      ]
    },
    {
      "cell_type": "code",
      "source": [
        "!wget http://files.grouplens.org/datasets/movielens/ml-latest-small.zip\n",
        "!unzip ml-latest-small.zip -d movielens_data"
      ],
      "metadata": {
        "colab": {
          "base_uri": "https://localhost:8080/"
        },
        "id": "Y4yeoy-6L9zq",
        "outputId": "59920982-5e54-425d-efec-f9b6a260c5f7"
      },
      "execution_count": 47,
      "outputs": [
        {
          "output_type": "stream",
          "name": "stdout",
          "text": [
            "--2025-09-04 15:11:57--  http://files.grouplens.org/datasets/movielens/ml-latest-small.zip\n",
            "Resolving files.grouplens.org (files.grouplens.org)... 128.101.96.204\n",
            "Connecting to files.grouplens.org (files.grouplens.org)|128.101.96.204|:80... connected.\n",
            "HTTP request sent, awaiting response... 301 Moved Permanently\n",
            "Location: https://files.grouplens.org/datasets/movielens/ml-latest-small.zip [following]\n",
            "--2025-09-04 15:11:57--  https://files.grouplens.org/datasets/movielens/ml-latest-small.zip\n",
            "Connecting to files.grouplens.org (files.grouplens.org)|128.101.96.204|:443... connected.\n",
            "HTTP request sent, awaiting response... 200 OK\n",
            "Length: 978202 (955K) [application/zip]\n",
            "Saving to: ‘ml-latest-small.zip.3’\n",
            "\n",
            "ml-latest-small.zip 100%[===================>] 955.28K  3.30MB/s    in 0.3s    \n",
            "\n",
            "2025-09-04 15:11:58 (3.30 MB/s) - ‘ml-latest-small.zip.3’ saved [978202/978202]\n",
            "\n",
            "Archive:  ml-latest-small.zip\n",
            "replace movielens_data/ml-latest-small/links.csv? [y]es, [n]o, [A]ll, [N]one, [r]ename: N\n"
          ]
        }
      ]
    },
    {
      "cell_type": "code",
      "source": [
        "import pandas as pd\n",
        "import matplotlib.pyplot as plt\n",
        "import seaborn as sns\n",
        "import pandas as pd\n",
        "import numpy as np\n",
        "from sklearn.metrics.pairwise import cosine_similarity\n",
        "from sklearn.preprocessing import StandardScaler"
      ],
      "metadata": {
        "id": "z_4_uo4zMANB"
      },
      "execution_count": 48,
      "outputs": []
    },
    {
      "cell_type": "code",
      "source": [
        "movies = pd.read_csv('movielens_data/ml-latest-small/movies.csv')\n",
        "ratings = pd.read_csv('movielens_data/ml-latest-small/ratings.csv')\n",
        "tags = pd.read_csv('movielens_data/ml-latest-small/tags.csv')\n",
        "links = pd.read_csv('movielens_data/ml-latest-small/links.csv')"
      ],
      "metadata": {
        "id": "ZFA3ULCxMQ4P"
      },
      "execution_count": 49,
      "outputs": []
    },
    {
      "cell_type": "code",
      "source": [
        "print(\"Movies dataset:\")\n",
        "print(movies.head())\n",
        "print(f\"\\nMovies shape: {movies.shape}\")\n",
        "\n",
        "print(\"\\nRatings dataset:\")\n",
        "print(ratings.head())\n",
        "print(f\"\\nRatings shape: {ratings.shape}\")\n",
        "\n",
        "print(\"\\nTags dataset:\")\n",
        "print(tags.head())\n",
        "print(f\"\\nTags shape: {tags.shape}\")\n",
        "\n",
        "print(\"\\nLinks dataset:\")\n",
        "print(links.head())\n",
        "print(f\"\\nLinks shape: {links.shape}\")"
      ],
      "metadata": {
        "colab": {
          "base_uri": "https://localhost:8080/"
        },
        "id": "AFdsOrcZM0Cv",
        "outputId": "cabab67a-ec3e-4584-e968-42af49552b9f"
      },
      "execution_count": 50,
      "outputs": [
        {
          "output_type": "stream",
          "name": "stdout",
          "text": [
            "Movies dataset:\n",
            "   movieId                               title  \\\n",
            "0        1                    Toy Story (1995)   \n",
            "1        2                      Jumanji (1995)   \n",
            "2        3             Grumpier Old Men (1995)   \n",
            "3        4            Waiting to Exhale (1995)   \n",
            "4        5  Father of the Bride Part II (1995)   \n",
            "\n",
            "                                        genres  \n",
            "0  Adventure|Animation|Children|Comedy|Fantasy  \n",
            "1                   Adventure|Children|Fantasy  \n",
            "2                               Comedy|Romance  \n",
            "3                         Comedy|Drama|Romance  \n",
            "4                                       Comedy  \n",
            "\n",
            "Movies shape: (9742, 3)\n",
            "\n",
            "Ratings dataset:\n",
            "   userId  movieId  rating  timestamp\n",
            "0       1        1     4.0  964982703\n",
            "1       1        3     4.0  964981247\n",
            "2       1        6     4.0  964982224\n",
            "3       1       47     5.0  964983815\n",
            "4       1       50     5.0  964982931\n",
            "\n",
            "Ratings shape: (100836, 4)\n",
            "\n",
            "Tags dataset:\n",
            "   userId  movieId              tag   timestamp\n",
            "0       2    60756            funny  1445714994\n",
            "1       2    60756  Highly quotable  1445714996\n",
            "2       2    60756     will ferrell  1445714992\n",
            "3       2    89774     Boxing story  1445715207\n",
            "4       2    89774              MMA  1445715200\n",
            "\n",
            "Tags shape: (3683, 4)\n",
            "\n",
            "Links dataset:\n",
            "   movieId  imdbId   tmdbId\n",
            "0        1  114709    862.0\n",
            "1        2  113497   8844.0\n",
            "2        3  113228  15602.0\n",
            "3        4  114885  31357.0\n",
            "4        5  113041  11862.0\n",
            "\n",
            "Links shape: (9742, 3)\n"
          ]
        }
      ]
    },
    {
      "cell_type": "code",
      "source": [
        "plt.figure(figsize=(10, 6))\n",
        "sns.countplot(x='rating', data=ratings)\n",
        "plt.title('Distribution of Ratings')\n",
        "plt.show()"
      ],
      "metadata": {
        "colab": {
          "base_uri": "https://localhost:8080/",
          "height": 564
        },
        "id": "c-7PQcAIOUkS",
        "outputId": "03e19525-c1a4-4f56-cfa1-185ad6ef5a3f"
      },
      "execution_count": 51,
      "outputs": [
        {
          "output_type": "display_data",
          "data": {
            "text/plain": [
              "<Figure size 1000x600 with 1 Axes>"
            ],
            "image/png": "[encoded data removed]"
          },
          "metadata": {}
        }
      ]
    },
    {
      "cell_type": "code",
      "source": [
        "movie_ratings = ratings.groupby('movieId')['rating'].agg(['mean', 'count']).reset_index()\n",
        "movie_ratings = movie_ratings.merge(movies, on='movieId')"
      ],
      "metadata": {
        "id": "hrKvzB2xOgiS"
      },
      "execution_count": 52,
      "outputs": []
    },
    {
      "cell_type": "code",
      "source": [
        "top_movies = movie_ratings[movie_ratings['count'] >= 50].nlargest(10, 'mean')\n",
        "print(\"Top 10 highest rated movies:\")\n",
        "print(top_movies[['title', 'mean', 'count']])"
      ],
      "metadata": {
        "colab": {
          "base_uri": "https://localhost:8080/"
        },
        "id": "03gsjqZGOuWX",
        "outputId": "6fb31ce4-359c-4ebd-bdfd-67abe447d9c7"
      },
      "execution_count": 53,
      "outputs": [
        {
          "output_type": "stream",
          "name": "stdout",
          "text": [
            "Top 10 highest rated movies:\n",
            "                                                  title      mean  count\n",
            "277                    Shawshank Redemption, The (1994)  4.429022    317\n",
            "659                               Godfather, The (1972)  4.289062    192\n",
            "2224                                  Fight Club (1999)  4.272936    218\n",
            "974                               Cool Hand Luke (1967)  4.271930     57\n",
            "602   Dr. Strangelove or: How I Learned to Stop Worr...  4.268041     97\n",
            "686                                  Rear Window (1954)  4.261905     84\n",
            "921                      Godfather: Part II, The (1974)  4.259690    129\n",
            "6298                               Departed, The (2006)  4.252336    107\n",
            "913                                   Goodfellas (1990)  4.250000    126\n",
            "694                                   Casablanca (1942)  4.240000    100\n"
          ]
        }
      ]
    },
    {
      "cell_type": "code",
      "source": [
        "ratings['timestamp'] = pd.to_datetime(ratings['timestamp'], unit='s')\n",
        "ratings['year'] = ratings['timestamp'].dt.year\n",
        "\n",
        "plt.figure(figsize=(12, 6))\n",
        "ratings['year'].value_counts().sort_index().plot(kind='bar')\n",
        "plt.title('Number of Ratings per Year')\n",
        "plt.xlabel('Year')\n",
        "plt.ylabel('Number of Ratings')\n",
        "plt.show()"
      ],
      "metadata": {
        "colab": {
          "base_uri": "https://localhost:8080/",
          "height": 586
        },
        "id": "frKwoBX3PEmO",
        "outputId": "61ed97c2-0fa6-4d9e-c40b-2dbb2b57eef9"
      },
      "execution_count": 54,
      "outputs": [
        {
          "output_type": "display_data",
          "data": {
            "text/plain": [
              "<Figure size 1200x600 with 1 Axes>"
            ],
            "image/png": "[encoded data removed]"
          },
          "metadata": {}
        }
      ]
    },
    {
      "cell_type": "code",
      "source": [
        "print(ratings.head())\n",
        "ratings = ratings.drop('timestamp', axis=1)\n",
        "\n",
        "# Create user-item matrix\n",
        "user_movie_matrix = ratings.pivot_table(index='userId', columns='movieId', values='rating')\n",
        "\n",
        "# Fill missing ratings with 0 (for similarity calculations)\n",
        "user_movie_matrix_filled = user_movie_matrix.fillna(0)\n",
        "\n",
        "print(user_movie_matrix_filled.head())"
      ],
      "metadata": {
        "colab": {
          "base_uri": "https://localhost:8080/"
        },
        "id": "9d0OUHwnQS4t",
        "outputId": "9ee77ed4-bb0b-4834-8a1f-76cfb1337335"
      },
      "execution_count": 55,
      "outputs": [
        {
          "output_type": "stream",
          "name": "stdout",
          "text": [
            "   userId  movieId  rating           timestamp  year\n",
            "0       1        1     4.0 2000-07-30 18:45:03  2000\n",
            "1       1        3     4.0 2000-07-30 18:20:47  2000\n",
            "2       1        6     4.0 2000-07-30 18:37:04  2000\n",
            "3       1       47     5.0 2000-07-30 19:03:35  2000\n",
            "4       1       50     5.0 2000-07-30 18:48:51  2000\n",
            "movieId  1       2       3       4       5       6       7       8       \\\n",
            "userId                                                                    \n",
            "1           4.0     0.0     4.0     0.0     0.0     4.0     0.0     0.0   \n",
            "2           0.0     0.0     0.0     0.0     0.0     0.0     0.0     0.0   \n",
            "3           0.0     0.0     0.0     0.0     0.0     0.0     0.0     0.0   \n",
            "4           0.0     0.0     0.0     0.0     0.0     0.0     0.0     0.0   \n",
            "5           4.0     0.0     0.0     0.0     0.0     0.0     0.0     0.0   \n",
            "\n",
            "movieId  9       10      ...  193565  193567  193571  193573  193579  193581  \\\n",
            "userId                   ...                                                   \n",
            "1           0.0     0.0  ...     0.0     0.0     0.0     0.0     0.0     0.0   \n",
            "2           0.0     0.0  ...     0.0     0.0     0.0     0.0     0.0     0.0   \n",
            "3           0.0     0.0  ...     0.0     0.0     0.0     0.0     0.0     0.0   \n",
            "4           0.0     0.0  ...     0.0     0.0     0.0     0.0     0.0     0.0   \n",
            "5           0.0     0.0  ...     0.0     0.0     0.0     0.0     0.0     0.0   \n",
            "\n",
            "movieId  193583  193585  193587  193609  \n",
            "userId                                   \n",
            "1           0.0     0.0     0.0     0.0  \n",
            "2           0.0     0.0     0.0     0.0  \n",
            "3           0.0     0.0     0.0     0.0  \n",
            "4           0.0     0.0     0.0     0.0  \n",
            "5           0.0     0.0     0.0     0.0  \n",
            "\n",
            "[5 rows x 9724 columns]\n"
          ]
        }
      ]
    },
    {
      "cell_type": "code",
      "source": [
        "#Cosine Similarity for user\n",
        "user_similarity = cosine_similarity(user_movie_matrix_filled)\n",
        "user_similarity_df = pd.DataFrame(user_similarity, index=user_movie_matrix.index, columns=user_movie_matrix.index)\n",
        "\n",
        "print(user_similarity_df.head())"
      ],
      "metadata": {
        "colab": {
          "base_uri": "https://localhost:8080/"
        },
        "id": "hDFW9bZMSG_q",
        "outputId": "494db9d7-6f9c-4728-9d33-87d8be02f60e"
      },
      "execution_count": 56,
      "outputs": [
        {
          "output_type": "stream",
          "name": "stdout",
          "text": [
            "userId       1         2         3         4         5         6         7    \\\n",
            "userId                                                                         \n",
            "1       1.000000  0.027283  0.059720  0.194395  0.129080  0.128152  0.158744   \n",
            "2       0.027283  1.000000  0.000000  0.003726  0.016614  0.025333  0.027585   \n",
            "3       0.059720  0.000000  1.000000  0.002251  0.005020  0.003936  0.000000   \n",
            "4       0.194395  0.003726  0.002251  1.000000  0.128659  0.088491  0.115120   \n",
            "5       0.129080  0.016614  0.005020  0.128659  1.000000  0.300349  0.108342   \n",
            "\n",
            "userId       8         9         10   ...       601       602       603  \\\n",
            "userId                                ...                                 \n",
            "1       0.136968  0.064263  0.016875  ...  0.080554  0.164455  0.221486   \n",
            "2       0.027257  0.000000  0.067445  ...  0.202671  0.016866  0.011997   \n",
            "3       0.004941  0.000000  0.000000  ...  0.005048  0.004892  0.024992   \n",
            "4       0.062969  0.011361  0.031163  ...  0.085938  0.128273  0.307973   \n",
            "5       0.429075  0.000000  0.030611  ...  0.068048  0.418747  0.110148   \n",
            "\n",
            "userId       604       605       606       607       608       609       610  \n",
            "userId                                                                        \n",
            "1       0.070669  0.153625  0.164191  0.269389  0.291097  0.093572  0.145321  \n",
            "2       0.000000  0.000000  0.028429  0.012948  0.046211  0.027565  0.102427  \n",
            "3       0.000000  0.010694  0.012993  0.019247  0.021128  0.000000  0.032119  \n",
            "4       0.052985  0.084584  0.200395  0.131746  0.149858  0.032198  0.107683  \n",
            "5       0.258773  0.148758  0.106435  0.152866  0.135535  0.261232  0.060792  \n",
            "\n",
            "[5 rows x 610 columns]\n"
          ]
        }
      ]
    },
    {
      "cell_type": "code",
      "source": [
        "#Cosine Similarity for item\n",
        "item_similarity = cosine_similarity(user_movie_matrix_filled.T)\n",
        "item_similarity_df = pd.DataFrame(item_similarity, index=user_movie_matrix.columns, columns=user_movie_matrix.columns)\n",
        "\n",
        "print(item_similarity_df.head())"
      ],
      "metadata": {
        "colab": {
          "base_uri": "https://localhost:8080/"
        },
        "id": "VIsqgV-DSr2B",
        "outputId": "71aa6eaf-764f-4b2c-8b97-8de86aa638d2"
      },
      "execution_count": 57,
      "outputs": [
        {
          "output_type": "stream",
          "name": "stdout",
          "text": [
            "movieId    1         2         3         4         5         6         7       \\\n",
            "movieId                                                                         \n",
            "1        1.000000  0.410562  0.296917  0.035573  0.308762  0.376316  0.277491   \n",
            "2        0.410562  1.000000  0.282438  0.106415  0.287795  0.297009  0.228576   \n",
            "3        0.296917  0.282438  1.000000  0.092406  0.417802  0.284257  0.402831   \n",
            "4        0.035573  0.106415  0.092406  1.000000  0.188376  0.089685  0.275035   \n",
            "5        0.308762  0.287795  0.417802  0.188376  1.000000  0.298969  0.474002   \n",
            "\n",
            "movieId    8         9         10      ...  193565  193567  193571  193573  \\\n",
            "movieId                                ...                                   \n",
            "1        0.131629  0.232586  0.395573  ...     0.0     0.0     0.0     0.0   \n",
            "2        0.172498  0.044835  0.417693  ...     0.0     0.0     0.0     0.0   \n",
            "3        0.313434  0.304840  0.242954  ...     0.0     0.0     0.0     0.0   \n",
            "4        0.158022  0.000000  0.095598  ...     0.0     0.0     0.0     0.0   \n",
            "5        0.283523  0.335058  0.218061  ...     0.0     0.0     0.0     0.0   \n",
            "\n",
            "movieId  193579  193581  193583  193585  193587  193609  \n",
            "movieId                                                  \n",
            "1           0.0     0.0     0.0     0.0     0.0     0.0  \n",
            "2           0.0     0.0     0.0     0.0     0.0     0.0  \n",
            "3           0.0     0.0     0.0     0.0     0.0     0.0  \n",
            "4           0.0     0.0     0.0     0.0     0.0     0.0  \n",
            "5           0.0     0.0     0.0     0.0     0.0     0.0  \n",
            "\n",
            "[5 rows x 9724 columns]\n"
          ]
        }
      ]
    },
    {
      "cell_type": "code",
      "source": [
        "def recommend_movies_user_based(user_id, top_n=5):\n",
        "    # Get similar users\n",
        "    similar_users = user_similarity_df[user_id].sort_values(ascending=False)\n",
        "\n",
        "    # Weighted ratings\n",
        "    weighted_ratings = user_movie_matrix_filled.T.dot(similar_users) / similar_users.sum()\n",
        "\n",
        "    # Exclude movies already rated by the user\n",
        "    already_rated = user_movie_matrix_filled.loc[user_id]\n",
        "    recommendations = weighted_ratings[already_rated.isna()].sort_values(ascending=False).head(top_n)\n",
        "\n",
        "    recommended_movies = movies[movies['movieId'].isin(recommendations.index)]\n",
        "    return recommended_movies[['movieId', 'title']]\n",
        "\n",
        "print(recommend_movies_user_based(user_id=1, top_n=1))\n"
      ],
      "metadata": {
        "colab": {
          "base_uri": "https://localhost:8080/"
        },
        "id": "9uk9GFKtS3-u",
        "outputId": "4f2d60e6-4f7c-436f-a30d-5e520735135b"
      },
      "execution_count": 60,
      "outputs": [
        {
          "output_type": "stream",
          "name": "stdout",
          "text": [
            "Empty DataFrame\n",
            "Columns: [movieId, title]\n",
            "Index: []\n"
          ]
        }
      ]
    },
    {
      "cell_type": "code",
      "source": [
        "def recommend_movies_item_based(movie_id, top_n=5):\n",
        "    similar_movies = item_similarity_df[movie_id].sort_values(ascending=False)\n",
        "    similar_movies = similar_movies.drop(movie_id).head(top_n)\n",
        "\n",
        "    recommended_movies = movies[movies['movieId'].isin(similar_movies.index)]\n",
        "    return recommended_movies[['movieId', 'title']]\n",
        "\n",
        "print(recommend_movies_item_based(movie_id=1, top_n=5))\n"
      ],
      "metadata": {
        "colab": {
          "base_uri": "https://localhost:8080/"
        },
        "id": "wWLwoSOkS40D",
        "outputId": "a69a316b-87df-462c-d74f-7a43210e3643"
      },
      "execution_count": 61,
      "outputs": [
        {
          "output_type": "stream",
          "name": "stdout",
          "text": [
            "      movieId                                      title\n",
            "224       260  Star Wars: Episode IV - A New Hope (1977)\n",
            "314       356                        Forrest Gump (1994)\n",
            "418       480                       Jurassic Park (1993)\n",
            "615       780       Independence Day (a.k.a. ID4) (1996)\n",
            "2355     3114                         Toy Story 2 (1999)\n"
          ]
        }
      ]
    }
  ]
}